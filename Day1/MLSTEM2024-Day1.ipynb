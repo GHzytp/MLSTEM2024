{
 "cells": [
  {
   "cell_type": "markdown",
   "metadata": {},
   "source": [
    "\n",
    "<font size = \"5\"> **Day 1: [Atomic Resolution STEM and Machine Learning](../MLSTEM2024.ipynb)** </font>\n",
    "\n",
    "\n",
    "<hr style=\"height:1px;border-top:4px solid #FF8200\" />\n",
    "\n",
    "# Day1: Atomic Resolution STEM, Deep Convolutional Neural Networks, and Variational Auto Encoder\n",
    "\n",
    "part of the workshop of \n",
    "\n",
    "<font size = \"5\"> **[Machine Learning in Transmission Electron Microscopy](../_MLSTEM.ipynb)**</font>\n",
    "\n",
    "<table style=\"margin-right:auto;margin-left:0px\">\n",
    "  <tr>\n",
    "    <td>Gerd Duscher </td>\n",
    "    <td>Sergei Kalinin</td>\n",
    "  </tr>\n",
    "  <tr>\n",
    "    <td colspan=\"2\"><center>Microscopy Facilities</td> \n",
    "  </tr>\n",
    "  \n",
    "  <tr>\n",
    "    <td colspan=\"2\"><center>Materials Science & Engineering</td>\n",
    "    <td></td>\n",
    "  </tr>\n",
    "  <tr>\n",
    "    <td colspan=\"2\"><center>Institute of Advanced Materials & Manufacturing</td>\n",
    "  </tr>\n",
    "  <tr>\n",
    "    <td colspan=\"2\"><center> The University of Tennessee, Knoxville</center> </td>\n",
    "  </tr>\n",
    "</table>\n",
    "        \n",
    "**June 2024**"
   ]
  },
  {
   "cell_type": "markdown",
   "metadata": {},
   "source": [
    "## Schedule\n",
    "Day 1 has the following sections:\n",
    "* [Electron Optics and Aberrations](1_Aberrations.ipynb)\n",
    "* Live Remote Alignment of Aberrations in STEM \n",
    "* [Ronchigram Simulation](3_Ronchigram.ipynb) - participant notebook\n",
    "* Lunch\n",
    "* Live Remote Acquisition of Atomic Resolution Images\n",
    "* [Atom Position determination](4_Atom_Finding.ipynb) - participant notebook\n",
    "* [Training datasets and Neural Networks](NueralNetworks.ipynb) \n",
    "* [Advanced Machine Learning of Atomically Resolved Images](AtomAI.ipynb)\n",
    " "
   ]
  },
  {
   "cell_type": "markdown",
   "metadata": {},
   "source": [
    "## Navigation\n",
    "- <font size = \"3\">  **Back : [Machine Learning in STEM](../MLSTEM2024.ipynb)** </font>\n",
    "- <font size = \"3\">  **Next: Day 2: [Day 2](../Day2/MLSTEM2024-Day2.ipynb)** </font>\n",
    "- <font size = \"3\">  **List of Content: [Machine Learning in STEM](../MLSTEM2024.ipynb)** </font>"
   ]
  },
  {
   "cell_type": "code",
   "execution_count": null,
   "metadata": {},
   "outputs": [],
   "source": []
  },
  {
   "cell_type": "code",
   "execution_count": null,
   "metadata": {},
   "outputs": [],
   "source": []
  }
 ],
 "metadata": {
  "kernelspec": {
   "display_name": "Python 3 (ipykernel)",
   "language": "python",
   "name": "python3"
  },
  "language_info": {
   "codemirror_mode": {
    "name": "ipython",
    "version": 3
   },
   "file_extension": ".py",
   "mimetype": "text/x-python",
   "name": "python",
   "nbconvert_exporter": "python",
   "pygments_lexer": "ipython3",
   "version": "3.11.7"
  },
  "toc": {
   "base_numbering": 1,
   "nav_menu": {},
   "number_sections": true,
   "sideBar": true,
   "skip_h1_title": false,
   "title_cell": "Table of Contents",
   "title_sidebar": "Contents",
   "toc_cell": false,
   "toc_position": {},
   "toc_section_display": true,
   "toc_window_display": false
  },
  "vscode": {
   "interpreter": {
    "hash": "838e0debddb5b6f29d3d8c39ba50ae8c51920a564d3bac000e89375a158a81de"
   }
  }
 },
 "nbformat": 4,
 "nbformat_minor": 4
}
